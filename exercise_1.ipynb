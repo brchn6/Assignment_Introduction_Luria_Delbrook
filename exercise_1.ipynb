{
 "cells": [
  {
   "cell_type": "code",
   "execution_count": 21,
   "metadata": {
    "collapsed": true,
    "ExecuteTime": {
     "end_time": "2025-03-28T00:50:58.829499Z",
     "start_time": "2025-03-28T00:50:58.810463900Z"
    }
   },
   "outputs": [],
   "source": [
    "import numpy as np\n",
    "\n",
    "class Organism:\n",
    "\n",
    "    N_GENES = 10\n",
    "    P_MUTATION = 0.1\n",
    "\n",
    "    def __init__(self, genome: np.ndarray = None):\n",
    "        self.genome = genome if genome is not None else np.zeros(self.N_GENES, dtype=bool)\n",
    "\n",
    "    def replicate_genome(self):\n",
    "        copied_genome = self.genome.copy()\n",
    "        mutations = np.random.rand(self.N_GENES) < self.P_MUTATION  # Mutation mask\n",
    "        copied_genome ^= mutations  # Flip bits where mutations occur\n",
    "        return copied_genome\n",
    "\n",
    "    def divide(self):\n",
    "        # Perform binary fission by replicating the genome and dividing into two organisms\n",
    "        offsprings = [\n",
    "            Organism(genome=self.replicate_genome()),\n",
    "            Organism(genome=self.replicate_genome()),\n",
    "        ]\n",
    "        return offsprings"
   ]
  },
  {
   "cell_type": "code",
   "execution_count": 22,
   "outputs": [],
   "source": [
    "organism = Organism()"
   ],
   "metadata": {
    "collapsed": false,
    "ExecuteTime": {
     "end_time": "2025-03-28T00:51:17.251952300Z",
     "start_time": "2025-03-28T00:51:17.225868300Z"
    }
   }
  },
  {
   "cell_type": "code",
   "execution_count": 23,
   "outputs": [
    {
     "data": {
      "text/plain": "array([False, False, False, False, False, False, False, False, False,\n       False])"
     },
     "execution_count": 23,
     "metadata": {},
     "output_type": "execute_result"
    }
   ],
   "source": [
    "organism.genome"
   ],
   "metadata": {
    "collapsed": false,
    "ExecuteTime": {
     "end_time": "2025-03-28T00:51:18.123907600Z",
     "start_time": "2025-03-28T00:51:18.104802100Z"
    }
   }
  },
  {
   "cell_type": "code",
   "execution_count": 24,
   "outputs": [
    {
     "data": {
      "text/plain": "array([False, False, False, False, False,  True, False, False,  True,\n       False])"
     },
     "execution_count": 24,
     "metadata": {},
     "output_type": "execute_result"
    }
   ],
   "source": [
    "organism.replicate_genome()"
   ],
   "metadata": {
    "collapsed": false,
    "ExecuteTime": {
     "end_time": "2025-03-28T00:51:19.225902500Z",
     "start_time": "2025-03-28T00:51:19.213439600Z"
    }
   }
  },
  {
   "cell_type": "code",
   "execution_count": 36,
   "outputs": [
    {
     "data": {
      "text/plain": "array([[ True, False,  True, False, False, False, False, False, False,\n         True],\n       [False, False, False, False, False, False, False, False, False,\n        False]])"
     },
     "execution_count": 36,
     "metadata": {},
     "output_type": "execute_result"
    }
   ],
   "source": [
    "np.stack([x.genome for x in organism.divide()])"
   ],
   "metadata": {
    "collapsed": false,
    "ExecuteTime": {
     "end_time": "2025-03-28T00:52:23.442666800Z",
     "start_time": "2025-03-28T00:52:23.428576300Z"
    }
   }
  },
  {
   "cell_type": "code",
   "execution_count": null,
   "outputs": [],
   "source": [],
   "metadata": {
    "collapsed": false
   }
  }
 ],
 "metadata": {
  "kernelspec": {
   "display_name": "Python 3",
   "language": "python",
   "name": "python3"
  },
  "language_info": {
   "codemirror_mode": {
    "name": "ipython",
    "version": 2
   },
   "file_extension": ".py",
   "mimetype": "text/x-python",
   "name": "python",
   "nbconvert_exporter": "python",
   "pygments_lexer": "ipython2",
   "version": "2.7.6"
  }
 },
 "nbformat": 4,
 "nbformat_minor": 0
}
