{
 "cells": [
  {
   "cell_type": "code",
   "execution_count": 2,
   "metadata": {
    "collapsed": true,
    "ExecuteTime": {
     "end_time": "2025-04-02T12:59:36.553145400Z",
     "start_time": "2025-04-02T12:59:36.417580900Z"
    }
   },
   "outputs": [],
   "source": [
    "import numpy as np"
   ]
  },
  {
   "cell_type": "code",
   "execution_count": 16,
   "outputs": [],
   "source": [
    "class Organism:\n",
    "\n",
    "    # change these required\n",
    "    P_ACQUIRE_MUTATION = 0.05\n",
    "    P_LOSE_MUTATION = 0.0\n",
    "\n",
    "    def __init__(self, gene: bool = False):\n",
    "        self.gene = gene\n",
    "\n",
    "    def replicate_gene(self):\n",
    "\n",
    "        # acquire mutation\n",
    "        if (not self.gene) and (np.random.rand() < self.P_ACQUIRE_MUTATION):\n",
    "            copied_gene = True\n",
    "        # lose mutation (an extension; usually don't happen)\n",
    "        elif self.gene and (np.random.rand() < self.P_LOSE_MUTATION):\n",
    "            copied_gene = False\n",
    "        # standard copy\n",
    "        else:\n",
    "            copied_gene = self.gene\n",
    "\n",
    "        return copied_gene\n",
    "\n",
    "    def divide(self):\n",
    "        # Perform binary fission by replicating the genes and dividing into two organisms\n",
    "        offsprings = [\n",
    "            Organism(gene=self.replicate_gene()),\n",
    "            Organism(gene=self.replicate_gene()),\n",
    "        ]\n",
    "        return offsprings"
   ],
   "metadata": {
    "collapsed": false,
    "ExecuteTime": {
     "end_time": "2025-04-02T13:04:16.853671800Z",
     "start_time": "2025-04-02T13:04:16.844548100Z"
    }
   }
  },
  {
   "cell_type": "code",
   "execution_count": 31,
   "outputs": [],
   "source": [
    "class Experiment:\n",
    "\n",
    "    # change if required\n",
    "    N_GENERATIONS = 12\n",
    "\n",
    "    def __init__(self):\n",
    "        self.population = []\n",
    "        self.population_genome = []\n",
    "        self.mutation_part = []\n",
    "\n",
    "    def run_generations(self):\n",
    "\n",
    "        # initialize\n",
    "        self.population = [[Organism()]]\n",
    "        self.population_genome.append([x.gene for x in self.population[-1]])\n",
    "        self.mutation_part.append(np.mean(self.population_genome[-1]))\n",
    "\n",
    "        for i in range(self.N_GENERATIONS - 1):\n",
    "            current_generation = self.population[-1]\n",
    "            new_generation = [offspring for x in current_generation for offspring in x.divide()]\n",
    "            self.population.append(new_generation)\n",
    "            self.population_genome.append([x.gene for x in new_generation])\n",
    "            self.mutation_part.append(np.mean(self.population_genome[-1]))\n",
    "\n",
    "    def print_population(self):\n",
    "        for i in range(self.N_GENERATIONS):\n",
    "            print(f\"generation #{i}: {self.mutation_part[i]}\")"
   ],
   "metadata": {
    "collapsed": false,
    "ExecuteTime": {
     "end_time": "2025-04-02T13:06:13.336322700Z",
     "start_time": "2025-04-02T13:06:13.324856700Z"
    }
   }
  },
  {
   "cell_type": "code",
   "execution_count": 32,
   "outputs": [
    {
     "name": "stdout",
     "output_type": "stream",
     "text": [
      "generation #0: 0.0\n",
      "generation #1: 0.0\n",
      "generation #2: 0.0\n",
      "generation #3: 0.0\n",
      "generation #4: 0.0625\n",
      "generation #5: 0.1875\n",
      "generation #6: 0.21875\n",
      "generation #7: 0.265625\n",
      "generation #8: 0.296875\n",
      "generation #9: 0.318359375\n",
      "generation #10: 0.359375\n",
      "generation #11: 0.38671875\n"
     ]
    }
   ],
   "source": [
    "experiment = Experiment()\n",
    "\n",
    "experiment.run_generations()\n",
    "\n",
    "experiment.print_population()"
   ],
   "metadata": {
    "collapsed": false,
    "ExecuteTime": {
     "end_time": "2025-04-02T13:06:13.761781500Z",
     "start_time": "2025-04-02T13:06:13.742254400Z"
    }
   }
  },
  {
   "cell_type": "code",
   "execution_count": 33,
   "outputs": [
    {
     "name": "stdout",
     "output_type": "stream",
     "text": [
      "experiment #0\n"
     ]
    },
    {
     "data": {
      "text/plain": "array([[0.        , 0.        , 0.        , 0.        , 0.        ,\n        0.03125   , 0.046875  , 0.109375  , 0.16015625, 0.20898438,\n        0.26074219, 0.29248047],\n       [0.        , 0.        , 0.        , 0.        , 0.125     ,\n        0.1875    , 0.21875   , 0.2734375 , 0.3203125 , 0.35742188,\n        0.38867188, 0.41845703],\n       [0.        , 0.        , 0.        , 0.        , 0.0625    ,\n        0.0625    , 0.109375  , 0.1484375 , 0.18359375, 0.22265625,\n        0.26269531, 0.29541016],\n       [0.        , 0.        , 0.        , 0.        , 0.0625    ,\n        0.1875    , 0.203125  , 0.21875   , 0.25390625, 0.27929688,\n        0.30761719, 0.34375   ],\n       [0.        , 0.        , 0.25      , 0.25      , 0.25      ,\n        0.28125   , 0.296875  , 0.359375  , 0.38671875, 0.41601562,\n        0.44140625, 0.46826172],\n       [0.        , 0.        , 0.25      , 0.25      , 0.25      ,\n        0.28125   , 0.296875  , 0.328125  , 0.35546875, 0.38671875,\n        0.41894531, 0.45117188],\n       [0.        , 0.        , 0.        , 0.25      , 0.3125    ,\n        0.375     , 0.390625  , 0.40625   , 0.4453125 , 0.484375  ,\n        0.515625  , 0.53955078],\n       [0.        , 0.        , 0.25      , 0.25      , 0.25      ,\n        0.34375   , 0.390625  , 0.421875  , 0.4375    , 0.46289062,\n        0.49511719, 0.52246094],\n       [0.        , 0.        , 0.        , 0.        , 0.0625    ,\n        0.0625    , 0.125     , 0.1796875 , 0.2109375 , 0.24804688,\n        0.29492188, 0.328125  ],\n       [0.        , 0.        , 0.        , 0.125     , 0.25      ,\n        0.3125    , 0.328125  , 0.3671875 , 0.39453125, 0.43359375,\n        0.47265625, 0.5       ]])"
     },
     "execution_count": 33,
     "metadata": {},
     "output_type": "execute_result"
    }
   ],
   "source": [
    "def run_experiment_series(n_experiments: int):\n",
    "\n",
    "    n_generations = Experiment.N_GENERATIONS\n",
    "    mutation_part_array = np.zeros((n_experiments, n_generations))\n",
    "\n",
    "    for n in range(n_experiments):\n",
    "        if n % 10 == 0:\n",
    "            print(f\"experiment #{n}\")\n",
    "        experiment = Experiment()\n",
    "        experiment.run_generations()\n",
    "        mutation_part_array[n, :] = np.array(experiment.mutation_part)\n",
    "\n",
    "    return mutation_part_array\n",
    "\n",
    "run_experiment_series(n_experiments=10)"
   ],
   "metadata": {
    "collapsed": false,
    "ExecuteTime": {
     "end_time": "2025-04-02T13:06:14.804681900Z",
     "start_time": "2025-04-02T13:06:14.681397400Z"
    }
   }
  },
  {
   "cell_type": "code",
   "execution_count": 38,
   "outputs": [
    {
     "name": "stderr",
     "output_type": "stream",
     "text": [
      "Running Experiments: 100%|██████████████████████████████████████████████████████████████████████████████████████████████| 500/500 [00:02<00:00, 176.44it/s]\n"
     ]
    },
    {
     "data": {
      "text/plain": "array([[0.        , 0.        , 0.25      , ..., 0.51953125, 0.54785156,\n        0.56884766],\n       [0.        , 0.        , 0.        , ..., 0.34375   , 0.37988281,\n        0.40429688],\n       [0.        , 0.        , 0.        , ..., 0.375     , 0.40917969,\n        0.43310547],\n       ...,\n       [0.        , 0.        , 0.        , ..., 0.36328125, 0.39746094,\n        0.43164062],\n       [0.        , 0.        , 0.25      , ..., 0.46484375, 0.48730469,\n        0.51416016],\n       [0.        , 0.        , 0.25      , ..., 0.52929688, 0.55371094,\n        0.57568359]])"
     },
     "execution_count": 38,
     "metadata": {},
     "output_type": "execute_result"
    }
   ],
   "source": [
    "from tqdm import tqdm\n",
    "import numpy as np\n",
    "\n",
    "def run_experiment_series(n_experiments: int):\n",
    "    n_generations = Experiment.N_GENERATIONS\n",
    "    mutation_part_array = np.zeros((n_experiments, n_generations))\n",
    "\n",
    "    for n in tqdm(range(n_experiments), desc=\"Running Experiments\"):\n",
    "        experiment = Experiment()\n",
    "        experiment.run_generations()\n",
    "        mutation_part_array[n, :] = np.array(experiment.mutation_part)\n",
    "\n",
    "    return mutation_part_array\n",
    "\n",
    "run_experiment_series(n_experiments=500)"
   ],
   "metadata": {
    "collapsed": false,
    "ExecuteTime": {
     "end_time": "2025-04-02T13:08:26.962585Z",
     "start_time": "2025-04-02T13:08:24.059447900Z"
    }
   }
  },
  {
   "cell_type": "code",
   "execution_count": 37,
   "outputs": [
    {
     "data": {
      "text/plain": "<Figure size 640x480 with 1 Axes>",
      "image/png": "[encoded data removed]"
     },
     "metadata": {},
     "output_type": "display_data"
    }
   ],
   "source": [
    "# Plot the histogram\n",
    "plt.hist(mutation_part_last_generation, bins=15, edgecolor='black', alpha=0.7)\n",
    "plt.xlabel(\"Mutation Part Value\")\n",
    "plt.ylabel(\"Frequency\")\n",
    "plt.title(\"Histogram of Mutation Part in Last Generation\")\n",
    "plt.xlim([0, 1])\n",
    "plt.show()"
   ],
   "metadata": {
    "collapsed": false,
    "ExecuteTime": {
     "end_time": "2025-04-02T13:07:32.672754100Z",
     "start_time": "2025-04-02T13:07:32.486626200Z"
    }
   }
  },
  {
   "cell_type": "code",
   "execution_count": null,
   "outputs": [],
   "source": [],
   "metadata": {
    "collapsed": false
   }
  }
 ],
 "metadata": {
  "kernelspec": {
   "display_name": "Python 3",
   "language": "python",
   "name": "python3"
  },
  "language_info": {
   "codemirror_mode": {
    "name": "ipython",
    "version": 2
   },
   "file_extension": ".py",
   "mimetype": "text/x-python",
   "name": "python",
   "nbconvert_exporter": "python",
   "pygments_lexer": "ipython2",
   "version": "2.7.6"
  }
 },
 "nbformat": 4,
 "nbformat_minor": 0
}
